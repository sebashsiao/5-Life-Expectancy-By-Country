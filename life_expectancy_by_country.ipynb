{
 "cells": [
  {
   "cell_type": "markdown",
   "id": "0d033e85",
   "metadata": {},
   "source": [
    "# Life Expectancy By Country"
   ]
  },
  {
   "cell_type": "markdown",
   "id": "fd4403be",
   "metadata": {},
   "source": [
    "Over the course of the past few centuries, technological and medical advancements have helped increase the life expectancy of humans. However, as of now, the average life expectancy of humans varies depending on what country you live in.\n",
    "\n",
    "In this project, we will investigate a dataset containing information about the average life expectancy in 158 different countries. We will specifically look at how a country's economic success might impact the life expectancy in that area."
   ]
  },
  {
   "cell_type": "markdown",
   "id": "addfa720",
   "metadata": {},
   "source": [
    "## Access the Data"
   ]
  },
  {
   "cell_type": "markdown",
   "id": "44ba5eb2",
   "metadata": {},
   "source": [
    "1. We've imported a dataset containing the life expectancy in different countries. The data can be found in the variable named `data`.\n",
    "\n",
    "   To begin, let's get a sense of what this data looks like. Print `data.head()` to see the first 5 rows of the dataset.\n",
    "   \n",
    "   Look at the names of the columns. What other pieces of information does this dataset contain?\n",
    "   \n",
    "   You may want to comment out this print statement after looking at the data."
   ]
  },
  {
   "cell_type": "code",
   "execution_count": 1,
   "id": "551cb1ca",
   "metadata": {
    "ExecuteTime": {
     "end_time": "2023-12-21T02:28:55.131199Z",
     "start_time": "2023-12-21T02:28:54.248317Z"
    }
   },
   "outputs": [],
   "source": [
    "import numpy as np\n",
    "import pandas as pd\n",
    "import matplotlib.pyplot as plt\n",
    "\n",
    "%matplotlib inline\n",
    "\n",
    "data = pd.read_csv(\"country_data.csv\")\n"
   ]
  },
  {
   "cell_type": "code",
   "execution_count": 2,
   "id": "23aa5a5b6440fa39",
   "metadata": {
    "ExecuteTime": {
     "end_time": "2023-12-21T02:28:55.143986Z",
     "start_time": "2023-12-21T02:28:55.140255Z"
    },
    "collapsed": false
   },
   "outputs": [
    {
     "data": {
      "text/html": [
       "<div>\n",
       "<style scoped>\n",
       "    .dataframe tbody tr th:only-of-type {\n",
       "        vertical-align: middle;\n",
       "    }\n",
       "\n",
       "    .dataframe tbody tr th {\n",
       "        vertical-align: top;\n",
       "    }\n",
       "\n",
       "    .dataframe thead th {\n",
       "        text-align: right;\n",
       "    }\n",
       "</style>\n",
       "<table border=\"1\" class=\"dataframe\">\n",
       "  <thead>\n",
       "    <tr style=\"text-align: right;\">\n",
       "      <th></th>\n",
       "      <th>Country</th>\n",
       "      <th>Life Expectancy</th>\n",
       "      <th>GDP</th>\n",
       "    </tr>\n",
       "  </thead>\n",
       "  <tbody>\n",
       "    <tr>\n",
       "      <th>0</th>\n",
       "      <td>Afghanistan</td>\n",
       "      <td>58.19375</td>\n",
       "      <td>340.015425</td>\n",
       "    </tr>\n",
       "    <tr>\n",
       "      <th>1</th>\n",
       "      <td>Albania</td>\n",
       "      <td>75.15625</td>\n",
       "      <td>2119.726679</td>\n",
       "    </tr>\n",
       "    <tr>\n",
       "      <th>2</th>\n",
       "      <td>Algeria</td>\n",
       "      <td>73.61875</td>\n",
       "      <td>2847.853392</td>\n",
       "    </tr>\n",
       "    <tr>\n",
       "      <th>3</th>\n",
       "      <td>Angola</td>\n",
       "      <td>49.01875</td>\n",
       "      <td>1975.143045</td>\n",
       "    </tr>\n",
       "    <tr>\n",
       "      <th>4</th>\n",
       "      <td>Antigua and Barbuda</td>\n",
       "      <td>75.05625</td>\n",
       "      <td>9759.305728</td>\n",
       "    </tr>\n",
       "  </tbody>\n",
       "</table>\n",
       "</div>"
      ],
      "text/plain": [
       "               Country  Life Expectancy          GDP\n",
       "0          Afghanistan         58.19375   340.015425\n",
       "1              Albania         75.15625  2119.726679\n",
       "2              Algeria         73.61875  2847.853392\n",
       "3               Angola         49.01875  1975.143045\n",
       "4  Antigua and Barbuda         75.05625  9759.305728"
      ]
     },
     "execution_count": 2,
     "metadata": {},
     "output_type": "execute_result"
    }
   ],
   "source": [
    "data.head()"
   ]
  },
  {
   "cell_type": "markdown",
   "id": "1b0baea2",
   "metadata": {},
   "source": [
    "2. Let's isolate the column that contains the life expectancy and store it in a variable named `life_expectancy`. To get a single column from a Pandas DataFrame, use this syntax:\n",
    "\n",
    "   ```py\n",
    "   single_column = dataFrameName[\"columnName\"]\n",
    "   ```\n",
    "   \n",
    "   Make sure to pay attention to capitalization and spaces when using the column name!"
   ]
  },
  {
   "cell_type": "code",
   "execution_count": 3,
   "id": "817d9a01",
   "metadata": {
    "ExecuteTime": {
     "end_time": "2023-12-21T02:28:55.153162Z",
     "start_time": "2023-12-21T02:28:55.144162Z"
    }
   },
   "outputs": [
    {
     "data": {
      "text/plain": [
       "153    76.07500\n",
       "154    68.03125\n",
       "155    71.38750\n",
       "156    53.90625\n",
       "157    50.48750\n",
       "Name: Life Expectancy, dtype: float64"
      ]
     },
     "execution_count": 3,
     "metadata": {},
     "output_type": "execute_result"
    }
   ],
   "source": [
    "data.head()\n",
    "life_exp = data['Life Expectancy']\n",
    "life_exp.tail()"
   ]
  },
  {
   "cell_type": "markdown",
   "id": "6dbb4fb4",
   "metadata": {},
   "source": [
    "## Find the Quantiles"
   ]
  },
  {
   "cell_type": "markdown",
   "id": "f2bb4419",
   "metadata": {},
   "source": [
    "3. We can now use NumPy functions on that column! Let's use the `np.quantile()` function to find the quartiles of `life_expectancy`. Store the result in a variable named `life_expectancy_quartiles` and print the results."
   ]
  },
  {
   "cell_type": "code",
   "execution_count": 4,
   "id": "132424f2",
   "metadata": {
    "ExecuteTime": {
     "end_time": "2023-12-21T02:28:55.195198Z",
     "start_time": "2023-12-21T02:28:55.155972Z"
    }
   },
   "outputs": [
    {
     "data": {
      "text/plain": [
       "array([62.325    , 72.525    , 75.4421875])"
      ]
     },
     "execution_count": 4,
     "metadata": {},
     "output_type": "execute_result"
    }
   ],
   "source": [
    "life_exp_quartiles = np.quantile(life_exp, [.25, .5, .75])\n",
    "life_exp_quartiles"
   ]
  },
  {
   "cell_type": "markdown",
   "id": "d6b6d31e",
   "metadata": {},
   "source": [
    "4. Nice work! By looking at those three values you can get a sense of the spread of the data. For example, it seems like some of the data is fairly close together &mdash; a quarter of the data is between `72.5` years and `75.4` years.\n",
    "\n",
    "   Could you predict what the histogram might look like from those three numbers? Plot the histogram by using the following two lines of code. Does it look how you expected?\n",
    "   \n",
    "   ```py\n",
    "   plt.hist(life_expectancy)\n",
    "   plt.show()\n",
    "   ```"
   ]
  },
  {
   "cell_type": "code",
   "execution_count": 5,
   "id": "9ae17988",
   "metadata": {
    "ExecuteTime": {
     "end_time": "2023-12-21T02:28:55.556909Z",
     "start_time": "2023-12-21T02:28:55.170641Z"
    }
   },
   "outputs": [
    {
     "data": {
      "text/plain": [
       "<Figure size 600x400 with 0 Axes>"
      ]
     },
     "metadata": {},
     "output_type": "display_data"
    },
    {
     "data": {
      "image/png": "[encoded data removed]",
      "text/plain": [
       "<Figure size 640x480 with 1 Axes>"
      ]
     },
     "metadata": {},
     "output_type": "display_data"
    }
   ],
   "source": [
    "plt.figure(figsize=(6,4), facecolor='snow')\n",
    "fig = plt.figure()\n",
    "\n",
    "plt.hist(life_exp, bins=20)\n",
    "plt.title('Global Life Expectancy')\n",
    "plt.axvline(life_exp_quartiles[0], color='r', alpha=.5)\n",
    "plt.axvline(life_exp_quartiles[1], color='r', alpha=.5)\n",
    "plt.axvline(life_exp_quartiles[2], color='r', alpha=.5)\n",
    "plt.xlabel('Age')\n",
    "plt.ylabel('Number of Countries')\n",
    "\n",
    "plt.show()\n",
    "fig.savefig('global_life_expectancy.png', bbox_inches='tight', dpi=100)"
   ]
  },
  {
   "cell_type": "markdown",
   "id": "be8976cb",
   "metadata": {},
   "source": [
    "5. Let's take a moment to think about the meaning of these quartiles. If your country has a life expectancy of `70` years, does that fall in the first, second, third, or final quarter of the data?\n",
    "\n",
    "   View **Life Expectancy By Country_Solution.ipynb** to see the answer!"
   ]
  },
  {
   "cell_type": "markdown",
   "id": "dc83db64",
   "metadata": {},
   "source": [
    "## Splitting the Data by GDP"
   ]
  },
  {
   "cell_type": "markdown",
   "id": "4dab91c1",
   "metadata": {},
   "source": [
    "6. GDP is a measure of a country's wealth. Let's now use the GDP data to see if life expectancy is affected by this value.\n",
    "\n",
    "   Let's split the data into two groups based on GDP. If we find the median GDP, we can create two datasets for \"low GDP countries\" and \"high GDP countries\".\n",
    "   \n",
    "   To start, let's isolate the GDP column and store it in a variable named `gdp`. This should be similar to how you isolated the life expectancy column."
   ]
  },
  {
   "cell_type": "code",
   "execution_count": 6,
   "id": "fa544862",
   "metadata": {
    "ExecuteTime": {
     "end_time": "2023-12-21T02:28:55.571924Z",
     "start_time": "2023-12-21T02:28:55.557840Z"
    }
   },
   "outputs": [
    {
     "data": {
      "text/plain": [
       "0       340.015425\n",
       "1      2119.726679\n",
       "2      2847.853392\n",
       "3      1975.143045\n",
       "4      9759.305728\n",
       "          ...     \n",
       "153    7192.584875\n",
       "154     651.092359\n",
       "155    2000.245518\n",
       "156     811.811841\n",
       "157     410.980194\n",
       "Name: GDP, Length: 158, dtype: float64"
      ]
     },
     "execution_count": 6,
     "metadata": {},
     "output_type": "execute_result"
    }
   ],
   "source": [
    "gdp = data.GDP\n",
    "gdp"
   ]
  },
  {
   "cell_type": "markdown",
   "id": "cc7e433e",
   "metadata": {},
   "source": [
    "7. We now want to find the median GDP. You can use NumPy's `np.median()` function, but since the median is also a quantile, we can call `np.quantile()` using `0.5` as the second parameter.\n",
    "\n",
    "   Store the median in a variable named `median_gdp`. Print that variable to see the median."
   ]
  },
  {
   "cell_type": "code",
   "execution_count": 7,
   "id": "1a3e21b3",
   "metadata": {
    "ExecuteTime": {
     "end_time": "2023-12-21T02:28:55.604018Z",
     "start_time": "2023-12-21T02:28:55.570022Z"
    }
   },
   "outputs": [
    {
     "data": {
      "text/plain": [
       "2938.0781155"
      ]
     },
     "execution_count": 7,
     "metadata": {},
     "output_type": "execute_result"
    }
   ],
   "source": [
    "median_gdp = np.median(gdp)\n",
    "median_gdp"
   ]
  },
  {
   "cell_type": "markdown",
   "id": "7581520c",
   "metadata": {},
   "source": [
    "8. Let's now grab all of the rows from our original dataset that have a GDP less than or equal to the median. The following code will do that for you:\n",
    "\n",
    "   ```py\n",
    "   low_gdp = data[data['GDP'] <= median_gdp]\n",
    "   ```\n",
    "   \n",
    "   Do the same for all of the rows that have a GDP higher than the median. Store those rows in a variable named `high_gdp`.\n",
    "   \n",
    "   The line of code should look almost identical to the one above, but you should change the `<=` to `>`.\n",
    "   \n",
    "   Remember to change the name of the variable!"
   ]
  },
  {
   "cell_type": "code",
   "execution_count": 8,
   "id": "29c6e2fde7bf475e",
   "metadata": {
    "ExecuteTime": {
     "end_time": "2023-12-21T02:28:55.606995Z",
     "start_time": "2023-12-21T02:28:55.586624Z"
    }
   },
   "outputs": [
    {
     "data": {
      "text/html": [
       "<div>\n",
       "<style scoped>\n",
       "    .dataframe tbody tr th:only-of-type {\n",
       "        vertical-align: middle;\n",
       "    }\n",
       "\n",
       "    .dataframe tbody tr th {\n",
       "        vertical-align: top;\n",
       "    }\n",
       "\n",
       "    .dataframe thead th {\n",
       "        text-align: right;\n",
       "    }\n",
       "</style>\n",
       "<table border=\"1\" class=\"dataframe\">\n",
       "  <thead>\n",
       "    <tr style=\"text-align: right;\">\n",
       "      <th></th>\n",
       "      <th>Country</th>\n",
       "      <th>Life Expectancy</th>\n",
       "      <th>GDP</th>\n",
       "    </tr>\n",
       "  </thead>\n",
       "  <tbody>\n",
       "    <tr>\n",
       "      <th>0</th>\n",
       "      <td>Afghanistan</td>\n",
       "      <td>58.19375</td>\n",
       "      <td>340.015425</td>\n",
       "    </tr>\n",
       "    <tr>\n",
       "      <th>1</th>\n",
       "      <td>Albania</td>\n",
       "      <td>75.15625</td>\n",
       "      <td>2119.726679</td>\n",
       "    </tr>\n",
       "    <tr>\n",
       "      <th>2</th>\n",
       "      <td>Algeria</td>\n",
       "      <td>73.61875</td>\n",
       "      <td>2847.853392</td>\n",
       "    </tr>\n",
       "    <tr>\n",
       "      <th>3</th>\n",
       "      <td>Angola</td>\n",
       "      <td>49.01875</td>\n",
       "      <td>1975.143045</td>\n",
       "    </tr>\n",
       "    <tr>\n",
       "      <th>6</th>\n",
       "      <td>Armenia</td>\n",
       "      <td>73.40000</td>\n",
       "      <td>1999.986318</td>\n",
       "    </tr>\n",
       "    <tr>\n",
       "      <th>...</th>\n",
       "      <td>...</td>\n",
       "      <td>...</td>\n",
       "      <td>...</td>\n",
       "    </tr>\n",
       "    <tr>\n",
       "      <th>151</th>\n",
       "      <td>Ukraine</td>\n",
       "      <td>69.93750</td>\n",
       "      <td>1577.293329</td>\n",
       "    </tr>\n",
       "    <tr>\n",
       "      <th>154</th>\n",
       "      <td>Uzbekistan</td>\n",
       "      <td>68.03125</td>\n",
       "      <td>651.092359</td>\n",
       "    </tr>\n",
       "    <tr>\n",
       "      <th>155</th>\n",
       "      <td>Vanuatu</td>\n",
       "      <td>71.38750</td>\n",
       "      <td>2000.245518</td>\n",
       "    </tr>\n",
       "    <tr>\n",
       "      <th>156</th>\n",
       "      <td>Zambia</td>\n",
       "      <td>53.90625</td>\n",
       "      <td>811.811841</td>\n",
       "    </tr>\n",
       "    <tr>\n",
       "      <th>157</th>\n",
       "      <td>Zimbabwe</td>\n",
       "      <td>50.48750</td>\n",
       "      <td>410.980194</td>\n",
       "    </tr>\n",
       "  </tbody>\n",
       "</table>\n",
       "<p>79 rows × 3 columns</p>\n",
       "</div>"
      ],
      "text/plain": [
       "         Country  Life Expectancy          GDP\n",
       "0    Afghanistan         58.19375   340.015425\n",
       "1        Albania         75.15625  2119.726679\n",
       "2        Algeria         73.61875  2847.853392\n",
       "3         Angola         49.01875  1975.143045\n",
       "6        Armenia         73.40000  1999.986318\n",
       "..           ...              ...          ...\n",
       "151      Ukraine         69.93750  1577.293329\n",
       "154   Uzbekistan         68.03125   651.092359\n",
       "155      Vanuatu         71.38750  2000.245518\n",
       "156       Zambia         53.90625   811.811841\n",
       "157     Zimbabwe         50.48750   410.980194\n",
       "\n",
       "[79 rows x 3 columns]"
      ]
     },
     "execution_count": 8,
     "metadata": {},
     "output_type": "execute_result"
    }
   ],
   "source": [
    "low_gdp = data[data.GDP <= median_gdp]\n",
    "low_gdp"
   ]
  },
  {
   "cell_type": "code",
   "execution_count": 9,
   "id": "12067c34",
   "metadata": {
    "ExecuteTime": {
     "end_time": "2023-12-21T02:28:55.624339Z",
     "start_time": "2023-12-21T02:28:55.595284Z"
    },
    "collapsed": false
   },
   "outputs": [
    {
     "data": {
      "text/html": [
       "<div>\n",
       "<style scoped>\n",
       "    .dataframe tbody tr th:only-of-type {\n",
       "        vertical-align: middle;\n",
       "    }\n",
       "\n",
       "    .dataframe tbody tr th {\n",
       "        vertical-align: top;\n",
       "    }\n",
       "\n",
       "    .dataframe thead th {\n",
       "        text-align: right;\n",
       "    }\n",
       "</style>\n",
       "<table border=\"1\" class=\"dataframe\">\n",
       "  <thead>\n",
       "    <tr style=\"text-align: right;\">\n",
       "      <th></th>\n",
       "      <th>Country</th>\n",
       "      <th>Life Expectancy</th>\n",
       "      <th>GDP</th>\n",
       "    </tr>\n",
       "  </thead>\n",
       "  <tbody>\n",
       "    <tr>\n",
       "      <th>4</th>\n",
       "      <td>Antigua and Barbuda</td>\n",
       "      <td>75.05625</td>\n",
       "      <td>9759.305728</td>\n",
       "    </tr>\n",
       "    <tr>\n",
       "      <th>5</th>\n",
       "      <td>Argentina</td>\n",
       "      <td>75.15625</td>\n",
       "      <td>6998.575103</td>\n",
       "    </tr>\n",
       "    <tr>\n",
       "      <th>7</th>\n",
       "      <td>Australia</td>\n",
       "      <td>81.81250</td>\n",
       "      <td>34637.565050</td>\n",
       "    </tr>\n",
       "    <tr>\n",
       "      <th>8</th>\n",
       "      <td>Austria</td>\n",
       "      <td>81.48125</td>\n",
       "      <td>33827.476310</td>\n",
       "    </tr>\n",
       "    <tr>\n",
       "      <th>9</th>\n",
       "      <td>Azerbaijan</td>\n",
       "      <td>70.73125</td>\n",
       "      <td>3302.947807</td>\n",
       "    </tr>\n",
       "    <tr>\n",
       "      <th>...</th>\n",
       "      <td>...</td>\n",
       "      <td>...</td>\n",
       "      <td>...</td>\n",
       "    </tr>\n",
       "    <tr>\n",
       "      <th>146</th>\n",
       "      <td>Trinidad and Tobago</td>\n",
       "      <td>71.06875</td>\n",
       "      <td>7741.748090</td>\n",
       "    </tr>\n",
       "    <tr>\n",
       "      <th>147</th>\n",
       "      <td>Tunisia</td>\n",
       "      <td>74.35625</td>\n",
       "      <td>3044.081488</td>\n",
       "    </tr>\n",
       "    <tr>\n",
       "      <th>148</th>\n",
       "      <td>Turkey</td>\n",
       "      <td>73.91250</td>\n",
       "      <td>3983.917722</td>\n",
       "    </tr>\n",
       "    <tr>\n",
       "      <th>152</th>\n",
       "      <td>United Arab Emirates</td>\n",
       "      <td>75.70000</td>\n",
       "      <td>22110.366990</td>\n",
       "    </tr>\n",
       "    <tr>\n",
       "      <th>153</th>\n",
       "      <td>Uruguay</td>\n",
       "      <td>76.07500</td>\n",
       "      <td>7192.584875</td>\n",
       "    </tr>\n",
       "  </tbody>\n",
       "</table>\n",
       "<p>79 rows × 3 columns</p>\n",
       "</div>"
      ],
      "text/plain": [
       "                  Country  Life Expectancy           GDP\n",
       "4     Antigua and Barbuda         75.05625   9759.305728\n",
       "5               Argentina         75.15625   6998.575103\n",
       "7               Australia         81.81250  34637.565050\n",
       "8                 Austria         81.48125  33827.476310\n",
       "9              Azerbaijan         70.73125   3302.947807\n",
       "..                    ...              ...           ...\n",
       "146   Trinidad and Tobago         71.06875   7741.748090\n",
       "147               Tunisia         74.35625   3044.081488\n",
       "148                Turkey         73.91250   3983.917722\n",
       "152  United Arab Emirates         75.70000  22110.366990\n",
       "153               Uruguay         76.07500   7192.584875\n",
       "\n",
       "[79 rows x 3 columns]"
      ]
     },
     "execution_count": 9,
     "metadata": {},
     "output_type": "execute_result"
    }
   ],
   "source": [
    "high_gdp = data[data.GDP > median_gdp]\n",
    "high_gdp"
   ]
  },
  {
   "cell_type": "markdown",
   "id": "26ad7103",
   "metadata": {},
   "source": [
    "9. Now that we've split the data based on the GDP, let's see how the life expectancy of each group compares to each other.\n",
    "\n",
    "   Find the quartiles of the `\"Life Expectancy\"` column of `low_gdp`. Store the quartiles in a variable named `low_gdp_quartiles`. Print the results."
   ]
  },
  {
   "cell_type": "code",
   "execution_count": 10,
   "id": "4a06ada2",
   "metadata": {
    "ExecuteTime": {
     "end_time": "2023-12-21T02:28:55.624900Z",
     "start_time": "2023-12-21T02:28:55.613323Z"
    }
   },
   "outputs": [
    {
     "name": "stdout",
     "output_type": "stream",
     "text": [
      "[56.3375  64.34375 71.7375 ]\n"
     ]
    }
   ],
   "source": [
    "low_gdp_quartiles = np.quantile(low_gdp['Life Expectancy'], [0.25, 0.5, 0.75])\n",
    "print(low_gdp_quartiles)"
   ]
  },
  {
   "cell_type": "markdown",
   "id": "e900d679",
   "metadata": {},
   "source": [
    "10. Find the quartiles of the high GDP countries and store them in a variable named `high_gdp_quartiles`. This should look very similar to the last line of code you wrote. Print the results."
   ]
  },
  {
   "cell_type": "code",
   "execution_count": 11,
   "id": "091c76c9",
   "metadata": {
    "ExecuteTime": {
     "end_time": "2023-12-21T02:28:55.680836Z",
     "start_time": "2023-12-21T02:28:55.621090Z"
    }
   },
   "outputs": [
    {
     "name": "stdout",
     "output_type": "stream",
     "text": [
      "[72.965625 75.15625  80.521875]\n"
     ]
    }
   ],
   "source": [
    "high_gdp_quartiles = np.quantile(high_gdp['Life Expectancy'], [0.25, 0.5, 0.75])\n",
    "print(high_gdp_quartiles)"
   ]
  },
  {
   "cell_type": "markdown",
   "id": "5fbc2a78",
   "metadata": {},
   "source": [
    "## Histogram and Conclusions"
   ]
  },
  {
   "cell_type": "markdown",
   "id": "f3472ae2",
   "metadata": {},
   "source": [
    "11. By looking at the quantiles, you should get a sense of the spread and central tendency of these two datasets. But let's plot a histogram of each dataset to really compare them.\n",
    "\n",
    "    At the bottom of your code, add these four lines:\n",
    "    ```py\n",
    "    plt.hist(high_gdp[\"Life Expectancy\"], alpha = 0.5, label = \"High GDP\")\n",
    "    plt.hist(low_gdp[\"Life Expectancy\"], alpha = 0.5, label = \"Low GDP\")\n",
    "    plt.legend()\n",
    "    plt.show()\n",
    "    ```"
   ]
  },
  {
   "cell_type": "code",
   "execution_count": 12,
   "id": "87077d84",
   "metadata": {
    "ExecuteTime": {
     "end_time": "2023-12-21T02:28:56.076579Z",
     "start_time": "2023-12-21T02:28:55.633027Z"
    }
   },
   "outputs": [
    {
     "data": {
      "text/plain": [
       "<Figure size 600x400 with 0 Axes>"
      ]
     },
     "metadata": {},
     "output_type": "display_data"
    },
    {
     "data": {
      "image/png": "[encoded data removed]",
      "text/plain": [
       "<Figure size 640x480 with 1 Axes>"
      ]
     },
     "metadata": {},
     "output_type": "display_data"
    }
   ],
   "source": [
    "plt.figure(figsize=(6,4), facecolor='snow')\n",
    "fig = plt.figure()\n",
    "\n",
    "plt.hist(high_gdp['Life Expectancy'], alpha=.5, label=\"High GDP\")\n",
    "plt.axvline(low_gdp_quartiles[0], dashes=(4,2), color='coral')\n",
    "plt.annotate('Q1', xy=(54, 15), color='coral', size=11)\n",
    "plt.axvline(low_gdp_quartiles[1], dashes=(4,2), color='coral')\n",
    "plt.annotate('Q2', xy=(62, 15), color='coral', size=11)\n",
    "plt.axvline(low_gdp_quartiles[2], dashes=(4,2), color='coral')\n",
    "plt.annotate('Q3', xy=(70, 15), color='coral', size=11)\n",
    "\n",
    "plt.hist(low_gdp['Life Expectancy'], alpha=.5, label='Low GDP')\n",
    "plt.axvline(high_gdp_quartiles[0], dashes=(4,2), color='steelblue')\n",
    "plt.annotate('Q1', xy=(73, 18), color='steelblue', size=11)\n",
    "plt.axvline(high_gdp_quartiles[1], dashes=(4,2), color='steelblue')\n",
    "plt.annotate('Q2', xy=(76, 18), color='steelblue', size=11)\n",
    "plt.axvline(high_gdp_quartiles[2], dashes=(4,2), color='steelblue')\n",
    "plt.annotate('Q3', xy=(81, 18), color='steelblue', size=11)\n",
    "plt.title('Global Life Expectancy by Low and High GDP Countries')\n",
    "plt.xlabel('Age')\n",
    "plt.ylabel('Number of Countries')\n",
    "plt.legend()\n",
    "\n",
    "plt.axvline(70, dashes=(4,2), color='darkseagreen')\n",
    "plt.annotate('life exp 70\\nexpectation', xy=(69.5, 20), size=10, color='darkseagreen', ha='right')\n",
    "\n",
    "plt.show()\n",
    "fig.savefig('life_expectancy_by_gdp_high_and_low.png', bbox_inches='tight', dpi=100)"
   ]
  },
  {
   "cell_type": "markdown",
   "id": "2903763d",
   "metadata": {},
   "source": [
    "12. We can now truly see the impact GDP has on life expectancy.\n",
    "\n",
    "    Once again, consider a country that has a life expectancy of `70` years. If that country is in the top half of GDP countries, is it in the first, second, third, or fourth quarter of the data with respect to life expectancy? What if the country is in the bottom half of the countries? View **Life Expectancy By Country_Solution.ipynb** to see our thoughts."
   ]
  },
  {
   "cell_type": "markdown",
   "id": "a28e056e08bc384f",
   "metadata": {
    "collapsed": false
   },
   "source": [
    "'70' is below the first quartile of the high GDP dataset, so it falls in the first quarter of that dataset.\n",
    "'70' is between the second and third quartile of the low GDP dataset, so it falls in the third quarter."
   ]
  },
  {
   "cell_type": "code",
   "execution_count": null,
   "id": "e146bca80511896c",
   "metadata": {
    "ExecuteTime": {
     "end_time": "2023-12-21T02:28:56.083112Z",
     "start_time": "2023-12-21T02:28:56.077194Z"
    },
    "collapsed": false
   },
   "outputs": [],
   "source": []
  }
 ],
 "metadata": {
  "kernelspec": {
   "display_name": "Python 3 (ipykernel)",
   "language": "python",
   "name": "python3"
  },
  "language_info": {
   "codemirror_mode": {
    "name": "ipython",
    "version": 3
   },
   "file_extension": ".py",
   "mimetype": "text/x-python",
   "name": "python",
   "nbconvert_exporter": "python",
   "pygments_lexer": "ipython3",
   "version": "3.12.2"
  }
 },
 "nbformat": 4,
 "nbformat_minor": 5
}
